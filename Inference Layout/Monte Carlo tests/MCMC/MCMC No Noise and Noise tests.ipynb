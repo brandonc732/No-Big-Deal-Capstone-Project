{
 "cells": [
  {
   "cell_type": "code",
   "execution_count": 1,
   "id": "fd524472-35d9-4fb0-a31a-a1c016ca1680",
   "metadata": {},
   "outputs": [],
   "source": [
    "import numpy as np\n",
    "import pandas as pd\n",
    "import matplotlib.pyplot as plt\n",
    "\n",
    "import scipy.stats as stats\n",
    "from scipy.stats import gamma\n",
    "\n",
    "# forcing nano scale\n",
    "from matplotlib.ticker import ScalarFormatter\n",
    "nano_formatter = ScalarFormatter(useMathText=True)\n",
    "nano_formatter.set_powerlimits((-9, -9))  # Force e-9\n",
    "\n",
    "from tqdm import tqdm\n",
    "\n",
    "import pymc as pm\n",
    "import arviz as az\n",
    "\n",
    "from IPython.display import clear_output\n",
    "\n",
    "def nano(num):\n",
    "    return num * 10**(-9)"
   ]
  },
  {
   "cell_type": "markdown",
   "id": "4f433c20-00c2-4745-b81b-05e6c4031a62",
   "metadata": {},
   "source": [
    "# Direct Ground Truths (No Noise)"
   ]
  },
  {
   "cell_type": "markdown",
   "id": "f11768a3-0723-4b71-baaa-c3fa32f8b284",
   "metadata": {},
   "source": [
    "### 2d simulation functions"
   ]
  },
  {
   "cell_type": "code",
   "execution_count": 2,
   "id": "f3c1b29e-0b3c-4235-9e4d-8ac45edd7a3b",
   "metadata": {},
   "outputs": [],
   "source": [
    "def stokes_einstein(r, t, T_Kelvin, eta):\n",
    "    # Boltzmann's constant\n",
    "    k_B = 1.38e-23\n",
    "\n",
    "    # Calculate diffusion coefficient using Stokes-Einstein relation\n",
    "    D = (k_B * T_Kelvin) / (6 * np.pi * eta * r)\n",
    "    \n",
    "    return D\n",
    "\n",
    "def no_noise_simulation(radii, num_frames, t=0.1, T_Kelvin=296.55, eta=9.2e-4):\n",
    "    \n",
    "    # generate diffusion coefficients\n",
    "    Ds = stokes_einstein(radii, t, T_Kelvin, eta)\n",
    "    # calculate sigmas\n",
    "    variance = 2 * Ds * t\n",
    "    sigmas = np.sqrt(variance)\n",
    "    \n",
    "    # create initial positions\n",
    "    positions = np.zeros((num_frames, num_particles, 2))\n",
    "    # have all particles start at origin for now\n",
    "    \n",
    "    \n",
    "    # do wiener step process\n",
    "    for frame in range(1, num_frames):\n",
    "        # from previous group:\n",
    "        move = np.column_stack((np.random.normal(0, sigmas, num_particles), \n",
    "                                     np.random.normal(0, sigmas, num_particles)))\n",
    "        positions[frame] = positions[frame - 1] + move\n",
    "\n",
    "    return positions"
   ]
  },
  {
   "cell_type": "markdown",
   "id": "bf642d26-5849-416d-a272-609251aa5948",
   "metadata": {},
   "source": [
    "### Small test (no multithreading)"
   ]
  },
  {
   "cell_type": "code",
   "execution_count": 21,
   "id": "72e9827c-7842-4dbc-b7b8-3bb026f7170e",
   "metadata": {},
   "outputs": [
    {
     "name": "stdout",
     "output_type": "stream",
     "text": [
      "Particle: 149\n"
     ]
    },
    {
     "data": {
      "application/vnd.jupyter.widget-view+json": {
       "model_id": "c5df5adf64584f669800ad66b2b8ffe5",
       "version_major": 2,
       "version_minor": 0
      },
      "text/plain": [
       "  0%|          | 0/30000 [00:00<?, ?it/s]"
      ]
     },
     "metadata": {},
     "output_type": "display_data"
    },
    {
     "data": {
      "application/vnd.jupyter.widget-view+json": {
       "model_id": "ab14d10bf3c44bc6b5529b3cbd44e9b2",
       "version_major": 2,
       "version_minor": 0
      },
      "text/plain": [
       "  0%|          | 0/30000 [00:00<?, ?it/s]"
      ]
     },
     "metadata": {},
     "output_type": "display_data"
    },
    {
     "data": {
      "application/vnd.jupyter.widget-view+json": {
       "model_id": "302e21d2c27b4627a39baa8a6a9b2079",
       "version_major": 2,
       "version_minor": 0
      },
      "text/plain": [
       "  0%|          | 0/30000 [00:00<?, ?it/s]"
      ]
     },
     "metadata": {},
     "output_type": "display_data"
    },
    {
     "data": {
      "application/vnd.jupyter.widget-view+json": {
       "model_id": "c82c60af1a6a4f8f932a8eade752642c",
       "version_major": 2,
       "version_minor": 0
      },
      "text/plain": [
       "  0%|          | 0/30000 [00:00<?, ?it/s]"
      ]
     },
     "metadata": {},
     "output_type": "display_data"
    }
   ],
   "source": [
    "num_particles = 150\n",
    "radii = np.random.normal(nano(100), nano(20), num_particles)\n",
    "\n",
    "\n",
    "# from test data\n",
    "num_frames = 138\n",
    "t = 0.1 #100 ms\n",
    "T_Celsius = 23.4\n",
    "T_Kelvin = T_Celsius + 273.15 #C to Kelvin\n",
    "eta = 9.2e-4\n",
    "\n",
    "# generate simulated positions\n",
    "sim_positions = no_noise_simulation(radii, num_frames, t, T_Kelvin, eta)\n",
    "\n",
    "# calculate C\n",
    "k_B = 1.38e-23\n",
    "C = (k_B * T_Kelvin * t) / (3 * np.pi * eta)\n",
    "\n",
    "\n",
    "\n",
    "percentages = []\n",
    "variances = []\n",
    "\n",
    "# go through all particles\n",
    "# run through inference for each particle\n",
    "for i in range(num_particles):\n",
    "    clear_output()\n",
    "    \n",
    "    print(f\"Particle: {i}\")\n",
    "    # get x and y positions\n",
    "    x_pos = sim_positions[:, i, 0]\n",
    "    y_pos = sim_positions[:, i, 1]\n",
    "\n",
    "    # calculate movement by differences between positions\n",
    "    x_dist = np.diff(x_pos)\n",
    "    y_dist = np.diff(y_pos)\n",
    "\n",
    "    dist_arr = np.concatenate((x_dist, y_dist))    \n",
    "    \n",
    "    # get true radius\n",
    "    true_radius = radii[i]\n",
    "\n",
    "\n",
    "    # Define model\n",
    "    with pm.Model() as model:\n",
    "        #tau = pm.Gamma(\"tau\", alpha=prior_alpha, beta=prior_beta)\n",
    "        #sigma = pm.Deterministic(\"sigma\", 1 / pm.math.sqrt(tau))\n",
    "    \n",
    "        # suggested method for non informative prior (works way better)\n",
    "        sigma = pm.HalfCauchy(\"sigma\", beta=5)\n",
    "        tau = pm.Deterministic(\"tau\", 1 / sigma**2)\n",
    "        \n",
    "        obs = pm.Normal(\"obs\", mu=0, sigma=sigma, observed=dist_arr)\n",
    "        \n",
    "        # Use NUTS sampler\n",
    "        trace = pm.sample(draws=20000, tune=10000, chains=4, target_accept=0.9, return_inferencedata=True, nuts_sampler=\"numpyro\")\n",
    "\n",
    "    # extract radius samples\n",
    "    tau_samples = trace.posterior[\"tau\"].values.flatten()\n",
    "    rad_samples = tau_samples * C\n",
    "    \n",
    "    # calculate cdf of true radius\n",
    "    p_true_radius = np.mean(rad_samples < true_radius)\n",
    "\n",
    "    # append to percentages\n",
    "    percentages.append(p_true_radius)\n",
    "\n",
    "    # append to variances\n",
    "    variances.append(np.var(rad_samples))\n",
    "\n",
    "percentages = np.array(percentages)\n",
    "variances = np.array(variances)"
   ]
  },
  {
   "cell_type": "code",
   "execution_count": 22,
   "id": "0c900853-9239-4632-9fc2-f6f5b70ec8f2",
   "metadata": {},
   "outputs": [
    {
     "data": {
      "image/png": "[encoded data removed]",
      "text/plain": [
       "<Figure size 640x480 with 1 Axes>"
      ]
     },
     "metadata": {},
     "output_type": "display_data"
    }
   ],
   "source": [
    "plt.hist(percentages, bins=40) #2.5% bins\n",
    "plt.show()"
   ]
  },
  {
   "cell_type": "code",
   "execution_count": 23,
   "id": "094a6488-a306-4848-8f8c-c2d39b29e2a4",
   "metadata": {},
   "outputs": [
    {
     "data": {
      "text/plain": [
       "np.float64(0.9733333333333334)"
      ]
     },
     "execution_count": 23,
     "metadata": {},
     "output_type": "execute_result"
    }
   ],
   "source": [
    "np.mean((percentages >= 0.025) & (percentages <= 0.975))"
   ]
  },
  {
   "cell_type": "code",
   "execution_count": 24,
   "id": "f260e284-c28a-4ef1-85bf-62a252137337",
   "metadata": {},
   "outputs": [
    {
     "data": {
      "image/png": "[encoded data removed]",
      "text/plain": [
       "<Figure size 640x480 with 1 Axes>"
      ]
     },
     "metadata": {},
     "output_type": "display_data"
    }
   ],
   "source": [
    "plt.hist(variances, bins=40)\n",
    "plt.show()"
   ]
  },
  {
   "cell_type": "code",
   "execution_count": 25,
   "id": "223da942-16ea-4ef0-b18e-0b9a80620273",
   "metadata": {},
   "outputs": [
    {
     "data": {
      "image/png": "[encoded data removed]",
      "text/plain": [
       "<Figure size 640x480 with 1 Axes>"
      ]
     },
     "metadata": {},
     "output_type": "display_data"
    }
   ],
   "source": [
    "plt.scatter(radii, variances)\n",
    "plt.gca().xaxis.set_major_formatter(nano_formatter)\n",
    "plt.xlabel(\"radius\")\n",
    "plt.ylabel(\"variance\")\n",
    "plt.show()"
   ]
  },
  {
   "cell_type": "markdown",
   "id": "816a3fa4-910f-43a7-8c78-80935f5dc50a",
   "metadata": {},
   "source": [
    "### Monte Carlo test (with multithreading)"
   ]
  },
  {
   "cell_type": "code",
   "execution_count": null,
   "id": "a4fa1928-fa8c-4e1a-aa6a-ede284e1d1ca",
   "metadata": {},
   "outputs": [],
   "source": []
  },
  {
   "cell_type": "code",
   "execution_count": null,
   "id": "b68813cd-ca36-4751-b1e1-e54ec7268ab1",
   "metadata": {},
   "outputs": [],
   "source": []
  },
  {
   "cell_type": "code",
   "execution_count": null,
   "id": "9ffba920-0504-4153-94a5-59dfba8d8387",
   "metadata": {},
   "outputs": [],
   "source": []
  },
  {
   "cell_type": "code",
   "execution_count": null,
   "id": "82a4e0d5-e482-4f97-a67b-844fdf317201",
   "metadata": {},
   "outputs": [],
   "source": []
  },
  {
   "cell_type": "code",
   "execution_count": null,
   "id": "db9dd459-c2ea-4301-b7b7-a18875115ca5",
   "metadata": {},
   "outputs": [],
   "source": []
  },
  {
   "cell_type": "code",
   "execution_count": null,
   "id": "57c85a53-da95-4786-92c9-9b12c0145326",
   "metadata": {},
   "outputs": [],
   "source": []
  },
  {
   "cell_type": "code",
   "execution_count": null,
   "id": "d1d67ae3-7b79-4520-8b63-ab9be27aa50e",
   "metadata": {},
   "outputs": [],
   "source": []
  },
  {
   "cell_type": "code",
   "execution_count": null,
   "id": "fc22f72f-8bf8-41d3-a41d-ebc4200ba3ff",
   "metadata": {},
   "outputs": [],
   "source": []
  },
  {
   "cell_type": "code",
   "execution_count": null,
   "id": "2b0fce24-9ec4-4738-ba22-d1d4d0b5ef22",
   "metadata": {},
   "outputs": [],
   "source": []
  },
  {
   "cell_type": "code",
   "execution_count": null,
   "id": "fd4d84ad-a3e6-4758-a17b-c4a0de3ddb90",
   "metadata": {},
   "outputs": [],
   "source": []
  },
  {
   "cell_type": "code",
   "execution_count": null,
   "id": "595939b6-7792-4db4-8f7c-d613ee250906",
   "metadata": {},
   "outputs": [],
   "source": []
  },
  {
   "cell_type": "code",
   "execution_count": null,
   "id": "0955d05c-a305-4c2e-a009-eea86fc801bf",
   "metadata": {},
   "outputs": [],
   "source": []
  },
  {
   "cell_type": "code",
   "execution_count": null,
   "id": "25c1b884-5c87-43ae-8312-47a761359388",
   "metadata": {},
   "outputs": [],
   "source": []
  },
  {
   "cell_type": "code",
   "execution_count": null,
   "id": "18f3cc35-7bb6-4aa6-a3a9-eab35fbc198f",
   "metadata": {},
   "outputs": [],
   "source": []
  },
  {
   "cell_type": "code",
   "execution_count": null,
   "id": "8c4b83f4-23e3-4e0d-a7f4-8c091c7e196e",
   "metadata": {},
   "outputs": [],
   "source": []
  },
  {
   "cell_type": "code",
   "execution_count": null,
   "id": "e51de030-a2ad-4829-a5a8-d2fa1058c88f",
   "metadata": {},
   "outputs": [],
   "source": []
  },
  {
   "cell_type": "code",
   "execution_count": null,
   "id": "9c8c2f71-cf12-4b03-8fda-11578bb64aa6",
   "metadata": {},
   "outputs": [],
   "source": []
  },
  {
   "cell_type": "code",
   "execution_count": null,
   "id": "3bbd860c-52c1-4a09-b25b-3d2f044c9d5c",
   "metadata": {},
   "outputs": [],
   "source": []
  },
  {
   "cell_type": "code",
   "execution_count": null,
   "id": "ae327322-1c21-4bfa-8140-6f43e00ae35a",
   "metadata": {},
   "outputs": [],
   "source": []
  },
  {
   "cell_type": "code",
   "execution_count": null,
   "id": "55bfbef4-b6c2-4447-9543-1a629fe515fa",
   "metadata": {},
   "outputs": [],
   "source": []
  },
  {
   "cell_type": "code",
   "execution_count": null,
   "id": "406f35dd-1db7-4110-930d-1582bf9e2a6c",
   "metadata": {},
   "outputs": [],
   "source": []
  },
  {
   "cell_type": "code",
   "execution_count": null,
   "id": "097030e0-5bf1-421a-9dff-78920935b7a6",
   "metadata": {},
   "outputs": [],
   "source": []
  },
  {
   "cell_type": "code",
   "execution_count": null,
   "id": "5085f469-363e-46dc-aac8-540d8be1a9b8",
   "metadata": {},
   "outputs": [],
   "source": []
  },
  {
   "cell_type": "code",
   "execution_count": null,
   "id": "55d3ff1f-41f6-41ae-8c38-f9fe3e4206a1",
   "metadata": {},
   "outputs": [],
   "source": []
  },
  {
   "cell_type": "code",
   "execution_count": null,
   "id": "14fb03c5-112a-4326-8da4-dace36de4649",
   "metadata": {},
   "outputs": [],
   "source": []
  },
  {
   "cell_type": "code",
   "execution_count": null,
   "id": "b36cc4fa-26a1-40c8-8eee-9fe3afed8d9f",
   "metadata": {},
   "outputs": [],
   "source": []
  },
  {
   "cell_type": "code",
   "execution_count": null,
   "id": "0815c842-3496-4927-8403-e8c35378b14c",
   "metadata": {},
   "outputs": [],
   "source": []
  },
  {
   "cell_type": "code",
   "execution_count": null,
   "id": "757f3c94-ba53-4a09-a86f-079d3dc4408f",
   "metadata": {},
   "outputs": [],
   "source": []
  },
  {
   "cell_type": "code",
   "execution_count": null,
   "id": "8921bd4a-d5ec-4104-a53a-15a6d7ecce19",
   "metadata": {},
   "outputs": [],
   "source": []
  }
 ],
 "metadata": {
  "kernelspec": {
   "display_name": "Python (Capstone)",
   "language": "python",
   "name": "capstone"
  },
  "language_info": {
   "codemirror_mode": {
    "name": "ipython",
    "version": 3
   },
   "file_extension": ".py",
   "mimetype": "text/x-python",
   "name": "python",
   "nbconvert_exporter": "python",
   "pygments_lexer": "ipython3",
   "version": "3.12.9"
  }
 },
 "nbformat": 4,
 "nbformat_minor": 5
}
